{
 "cells": [
  {
   "cell_type": "code",
   "execution_count": 1,
   "id": "1286b985-b9aa-4e0a-91c7-f4c14ae5e160",
   "metadata": {},
   "outputs": [
    {
     "name": "stderr",
     "output_type": "stream",
     "text": [
      "A subdirectory or file smoker_classifier already exists.\n"
     ]
    }
   ],
   "source": [
    "!mkdir smoker_classifier"
   ]
  },
  {
   "cell_type": "code",
   "execution_count": 2,
   "id": "c50315cd-d8d0-4b6b-964c-2e01de739d71",
   "metadata": {},
   "outputs": [
    {
     "name": "stdout",
     "output_type": "stream",
     "text": [
      "Overwriting setup.py\n"
     ]
    }
   ],
   "source": [
    "%%writefile setup.py\n",
    "from setuptools import find_packages\n",
    "from setuptools import setup\n",
    "\n",
    "REQUIRED_PACKAGES = ['pandas>=1.0', 'numpy>=1.6', 'matplotlib>=3.0', 'tensorflow>=2.4','pathlib']\n",
    "\n",
    "setup(\n",
    "    name='smoke_classifier',\n",
    "    version='0.1',\n",
    "    install_requires=REQUIRED_PACKAGES,\n",
    "    packages=find_packages(),\n",
    "    include_package_data=True,\n",
    "    description='My application package.'\n",
    ")"
   ]
  },
  {
   "cell_type": "code",
   "execution_count": 3,
   "id": "e6355bca-3d96-42e5-91dc-dc7c191458b3",
   "metadata": {},
   "outputs": [
    {
     "name": "stdout",
     "output_type": "stream",
     "text": [
      "Overwriting smoker_classifier/reader.py\n"
     ]
    }
   ],
   "source": [
    "%%writefile smoker_classifier/reader.py\n",
    "import tensorflow as tf\n",
    "import matplotlib.pyplot as plt\n",
    "import os\n",
    "from tensorflow.keras.preprocessing import image_dataset_from_directory as get_images\n",
    "from tensorflow.data.experimental import TFRecordWriter\n",
    "\n",
    "TRAINING_DIR = os.path.join(os.getcwd(), \"dataset\\\\training_data\") \n",
    "TESTING_DIR = os.path.join(os.getcwd(), \"dataset\\\\testing_data\")\n",
    "VALIDATION_DIR =os.path.join(os.getcwd(), \"dataset\\\\validation_data\")\n",
    "\n",
    "def show(training_ds):\n",
    "    classes = training_ds.class_names\n",
    "    plt.figure(figsize = (10, 10))\n",
    "    for images, labels in training_ds.take(1):\n",
    "        for i in range(9):\n",
    "            ax = plt.subplot(3, 3, i + 1)\n",
    "            plt.imshow(images[i].numpy().astype(\"uint8\"))\n",
    "            plt.title(classes[labels[i]])\n",
    "            plt.axis(\"off\")\n",
    "\n",
    "def main():\n",
    "    batch_size = 32\n",
    "    img_height = 255\n",
    "    img_width = 255\n",
    "    training_ds = get_images(\n",
    "        directory = TRAINING_DIR,\n",
    "        labels = \"inferred\",\n",
    "        label_mode=\"int\",\n",
    "        batch_size=batch_size,\n",
    "        image_size=(img_height, img_width)\n",
    "    )\n",
    "    validation_ds = get_images(\n",
    "        directory=VALIDATION_DIR,\n",
    "        labels='inferred',\n",
    "        label_mode=\"int\",\n",
    "        batch_size=batch_size,\n",
    "        image_size=(img_height, img_width)\n",
    "    )\n",
    "    #show(training_ds)\n",
    "    \n",
    "    return training_ds, validation_ds\n",
    "\n",
    "if __name__ == '__main__':\n",
    "    main()"
   ]
  },
  {
   "cell_type": "code",
   "execution_count": 4,
   "id": "64bd3040-f03c-4532-a766-b89b906fe152",
   "metadata": {},
   "outputs": [
    {
     "name": "stdout",
     "output_type": "stream",
     "text": [
      "Overwriting smoker_classifier/trainer.py\n"
     ]
    }
   ],
   "source": [
    "%%writefile smoker_classifier/trainer.py\n",
    "import tensorflow as tf\n",
    "import smoker_classifier.reader as reader\n",
    "from tensorflow.keras import layers\n",
    "from tensorflow.keras.callbacks import TensorBoard\n",
    "import datetime\n",
    "\n",
    "def main():\n",
    "    training_ds, validation_ds = reader.main()\n",
    "    AUTOTUNE = tf.data.experimental.AUTOTUNE\n",
    "    training_ds = training_ds.cache().prefetch(buffer_size=AUTOTUNE)\n",
    "    validation_ds = validation_ds.cache().prefetch(buffer_size=AUTOTUNE)\n",
    "    normalization_layer = tf.keras.layers.experimental.preprocessing.Rescaling(1./255)\n",
    "    training_ds = training_ds.map(\n",
    "        lambda x, y: (normalization_layer(x), y), \n",
    "        num_parallel_calls = AUTOTUNE).prefetch(AUTOTUNE)\n",
    "    \n",
    "    num_classes = 2\n",
    "\n",
    "    model = tf.keras.Sequential([\n",
    "        layers.Conv2D(32, 3, activation='relu'),\n",
    "        layers.MaxPooling2D(),\n",
    "        layers.Conv2D(32, 3, activation='relu'),\n",
    "        layers.MaxPooling2D(),\n",
    "        layers.Conv2D(32, 3, activation='relu'),\n",
    "        layers.MaxPooling2D(),\n",
    "        layers.Flatten(),\n",
    "        layers.Dense(128, activation='relu'),\n",
    "        layers.Dense(num_classes)])\n",
    "    \n",
    "    model.compile(\n",
    "      optimizer='adam',\n",
    "      loss=tf.losses.SparseCategoricalCrossentropy(from_logits=True),\n",
    "      metrics=['accuracy'])\n",
    "    \n",
    "    log_dir = \"logs/fit/\" + datetime.datetime.now().strftime(\"%Y%m%d-%H%M%S\")\n",
    "    tensorboard_callback = tf.keras.callbacks.TensorBoard(log_dir=log_dir, histogram_freq=1)\n",
    "    \n",
    "    model.fit(\n",
    "      training_ds,\n",
    "      validation_data=validation_ds,\n",
    "      epochs=10,\n",
    "      callbacks=[tensorboard_callback])\n",
    "    \n",
    "if __name__ == '__main__':\n",
    "    main()"
   ]
  },
  {
   "cell_type": "code",
   "execution_count": 5,
   "id": "c864c1e8-4a4b-40b6-aaa4-9f63be680d07",
   "metadata": {},
   "outputs": [
    {
     "name": "stdout",
     "output_type": "stream",
     "text": [
      "Processing f:\\tbn\n",
      "Requirement already satisfied: pandas>=1.0 in c:\\users\\hp\\anaconda3\\lib\\site-packages (from smoke-classifier==0.1) (1.2.4)\n",
      "Requirement already satisfied: numpy>=1.6 in c:\\users\\hp\\anaconda3\\lib\\site-packages (from smoke-classifier==0.1) (1.19.5)\n",
      "Requirement already satisfied: matplotlib>=3.0 in c:\\users\\hp\\anaconda3\\lib\\site-packages (from smoke-classifier==0.1) (3.3.4)\n",
      "Requirement already satisfied: tensorflow>=2.4 in c:\\users\\hp\\anaconda3\\lib\\site-packages (from smoke-classifier==0.1) (2.5.0)\n",
      "Requirement already satisfied: pathlib in c:\\users\\hp\\anaconda3\\lib\\site-packages (from smoke-classifier==0.1) (1.0.1)\n",
      "Requirement already satisfied: cycler>=0.10 in c:\\users\\hp\\anaconda3\\lib\\site-packages (from matplotlib>=3.0->smoke-classifier==0.1) (0.10.0)\n",
      "Requirement already satisfied: python-dateutil>=2.1 in c:\\users\\hp\\anaconda3\\lib\\site-packages (from matplotlib>=3.0->smoke-classifier==0.1) (2.8.1)\n",
      "Requirement already satisfied: pillow>=6.2.0 in c:\\users\\hp\\anaconda3\\lib\\site-packages (from matplotlib>=3.0->smoke-classifier==0.1) (8.2.0)\n",
      "Requirement already satisfied: kiwisolver>=1.0.1 in c:\\users\\hp\\anaconda3\\lib\\site-packages (from matplotlib>=3.0->smoke-classifier==0.1) (1.3.1)\n",
      "Requirement already satisfied: pyparsing!=2.0.4,!=2.1.2,!=2.1.6,>=2.0.3 in c:\\users\\hp\\anaconda3\\lib\\site-packages (from matplotlib>=3.0->smoke-classifier==0.1) (2.4.7)\n",
      "Requirement already satisfied: six in c:\\users\\hp\\anaconda3\\lib\\site-packages (from cycler>=0.10->matplotlib>=3.0->smoke-classifier==0.1) (1.15.0)\n",
      "Requirement already satisfied: pytz>=2017.3 in c:\\users\\hp\\anaconda3\\lib\\site-packages (from pandas>=1.0->smoke-classifier==0.1) (2021.1)\n",
      "Requirement already satisfied: typing-extensions~=3.7.4 in c:\\users\\hp\\anaconda3\\lib\\site-packages (from tensorflow>=2.4->smoke-classifier==0.1) (3.7.4.3)\n",
      "Requirement already satisfied: keras-preprocessing~=1.1.2 in c:\\users\\hp\\anaconda3\\lib\\site-packages (from tensorflow>=2.4->smoke-classifier==0.1) (1.1.2)\n",
      "Requirement already satisfied: opt-einsum~=3.3.0 in c:\\users\\hp\\anaconda3\\lib\\site-packages (from tensorflow>=2.4->smoke-classifier==0.1) (3.3.0)\n",
      "Requirement already satisfied: tensorboard~=2.5 in c:\\users\\hp\\anaconda3\\lib\\site-packages (from tensorflow>=2.4->smoke-classifier==0.1) (2.5.0)\n",
      "Requirement already satisfied: grpcio~=1.34.0 in c:\\users\\hp\\anaconda3\\lib\\site-packages (from tensorflow>=2.4->smoke-classifier==0.1) (1.34.1)\n",
      "Requirement already satisfied: h5py~=3.1.0 in c:\\users\\hp\\anaconda3\\lib\\site-packages (from tensorflow>=2.4->smoke-classifier==0.1) (3.1.0)\n",
      "Requirement already satisfied: keras-nightly~=2.5.0.dev in c:\\users\\hp\\anaconda3\\lib\\site-packages (from tensorflow>=2.4->smoke-classifier==0.1) (2.5.0.dev2021032900)\n",
      "Requirement already satisfied: absl-py~=0.10 in c:\\users\\hp\\anaconda3\\lib\\site-packages (from tensorflow>=2.4->smoke-classifier==0.1) (0.13.0)\n",
      "Requirement already satisfied: wheel~=0.35 in c:\\users\\hp\\anaconda3\\lib\\site-packages (from tensorflow>=2.4->smoke-classifier==0.1) (0.36.2)\n",
      "Requirement already satisfied: flatbuffers~=1.12.0 in c:\\users\\hp\\anaconda3\\lib\\site-packages (from tensorflow>=2.4->smoke-classifier==0.1) (1.12)\n",
      "Requirement already satisfied: protobuf>=3.9.2 in c:\\users\\hp\\anaconda3\\lib\\site-packages (from tensorflow>=2.4->smoke-classifier==0.1) (3.17.3)\n",
      "Requirement already satisfied: gast==0.4.0 in c:\\users\\hp\\anaconda3\\lib\\site-packages (from tensorflow>=2.4->smoke-classifier==0.1) (0.4.0)\n",
      "Requirement already satisfied: tensorflow-estimator<2.6.0,>=2.5.0rc0 in c:\\users\\hp\\anaconda3\\lib\\site-packages (from tensorflow>=2.4->smoke-classifier==0.1) (2.5.0)\n",
      "Requirement already satisfied: wrapt~=1.12.1 in c:\\users\\hp\\anaconda3\\lib\\site-packages (from tensorflow>=2.4->smoke-classifier==0.1) (1.12.1)\n",
      "Requirement already satisfied: astunparse~=1.6.3 in c:\\users\\hp\\anaconda3\\lib\\site-packages (from tensorflow>=2.4->smoke-classifier==0.1) (1.6.3)\n",
      "Requirement already satisfied: google-pasta~=0.2 in c:\\users\\hp\\anaconda3\\lib\\site-packages (from tensorflow>=2.4->smoke-classifier==0.1) (0.2.0)\n",
      "Requirement already satisfied: termcolor~=1.1.0 in c:\\users\\hp\\anaconda3\\lib\\site-packages (from tensorflow>=2.4->smoke-classifier==0.1) (1.1.0)\n",
      "Requirement already satisfied: tensorboard-plugin-wit>=1.6.0 in c:\\users\\hp\\anaconda3\\lib\\site-packages (from tensorboard~=2.5->tensorflow>=2.4->smoke-classifier==0.1) (1.8.0)\n",
      "Requirement already satisfied: tensorboard-data-server<0.7.0,>=0.6.0 in c:\\users\\hp\\anaconda3\\lib\\site-packages (from tensorboard~=2.5->tensorflow>=2.4->smoke-classifier==0.1) (0.6.1)\n",
      "Requirement already satisfied: markdown>=2.6.8 in c:\\users\\hp\\anaconda3\\lib\\site-packages (from tensorboard~=2.5->tensorflow>=2.4->smoke-classifier==0.1) (3.3.4)\n",
      "Requirement already satisfied: google-auth-oauthlib<0.5,>=0.4.1 in c:\\users\\hp\\anaconda3\\lib\\site-packages (from tensorboard~=2.5->tensorflow>=2.4->smoke-classifier==0.1) (0.4.4)\n",
      "Requirement already satisfied: requests<3,>=2.21.0 in c:\\users\\hp\\anaconda3\\lib\\site-packages (from tensorboard~=2.5->tensorflow>=2.4->smoke-classifier==0.1) (2.25.1)\n",
      "Requirement already satisfied: setuptools>=41.0.0 in c:\\users\\hp\\anaconda3\\lib\\site-packages (from tensorboard~=2.5->tensorflow>=2.4->smoke-classifier==0.1) (52.0.0.post20210125)\n",
      "Requirement already satisfied: werkzeug>=0.11.15 in c:\\users\\hp\\anaconda3\\lib\\site-packages (from tensorboard~=2.5->tensorflow>=2.4->smoke-classifier==0.1) (1.0.1)\n",
      "Requirement already satisfied: google-auth<2,>=1.6.3 in c:\\users\\hp\\anaconda3\\lib\\site-packages (from tensorboard~=2.5->tensorflow>=2.4->smoke-classifier==0.1) (1.32.1)\n",
      "Requirement already satisfied: pyasn1-modules>=0.2.1 in c:\\users\\hp\\anaconda3\\lib\\site-packages (from google-auth<2,>=1.6.3->tensorboard~=2.5->tensorflow>=2.4->smoke-classifier==0.1) (0.2.8)\n",
      "Requirement already satisfied: cachetools<5.0,>=2.0.0 in c:\\users\\hp\\anaconda3\\lib\\site-packages (from google-auth<2,>=1.6.3->tensorboard~=2.5->tensorflow>=2.4->smoke-classifier==0.1) (4.2.2)\n",
      "Requirement already satisfied: rsa<5,>=3.1.4 in c:\\users\\hp\\anaconda3\\lib\\site-packages (from google-auth<2,>=1.6.3->tensorboard~=2.5->tensorflow>=2.4->smoke-classifier==0.1) (4.7.2)\n",
      "Requirement already satisfied: requests-oauthlib>=0.7.0 in c:\\users\\hp\\anaconda3\\lib\\site-packages (from google-auth-oauthlib<0.5,>=0.4.1->tensorboard~=2.5->tensorflow>=2.4->smoke-classifier==0.1) (1.3.0)\n",
      "Requirement already satisfied: pyasn1<0.5.0,>=0.4.6 in c:\\users\\hp\\anaconda3\\lib\\site-packages (from pyasn1-modules>=0.2.1->google-auth<2,>=1.6.3->tensorboard~=2.5->tensorflow>=2.4->smoke-classifier==0.1) (0.4.8)\n",
      "Requirement already satisfied: chardet<5,>=3.0.2 in c:\\users\\hp\\anaconda3\\lib\\site-packages (from requests<3,>=2.21.0->tensorboard~=2.5->tensorflow>=2.4->smoke-classifier==0.1) (4.0.0)\n",
      "Requirement already satisfied: idna<3,>=2.5 in c:\\users\\hp\\anaconda3\\lib\\site-packages (from requests<3,>=2.21.0->tensorboard~=2.5->tensorflow>=2.4->smoke-classifier==0.1) (2.10)\n",
      "Requirement already satisfied: certifi>=2017.4.17 in c:\\users\\hp\\anaconda3\\lib\\site-packages (from requests<3,>=2.21.0->tensorboard~=2.5->tensorflow>=2.4->smoke-classifier==0.1) (2020.12.5)\n",
      "Requirement already satisfied: urllib3<1.27,>=1.21.1 in c:\\users\\hp\\anaconda3\\lib\\site-packages (from requests<3,>=2.21.0->tensorboard~=2.5->tensorflow>=2.4->smoke-classifier==0.1) (1.26.4)\n",
      "Requirement already satisfied: oauthlib>=3.0.0 in c:\\users\\hp\\anaconda3\\lib\\site-packages (from requests-oauthlib>=0.7.0->google-auth-oauthlib<0.5,>=0.4.1->tensorboard~=2.5->tensorflow>=2.4->smoke-classifier==0.1) (3.1.1)\n",
      "Building wheels for collected packages: smoke-classifier\n",
      "  Building wheel for smoke-classifier (setup.py): started\n",
      "  Building wheel for smoke-classifier (setup.py): finished with status 'done'\n",
      "  Created wheel for smoke-classifier: filename=smoke_classifier-0.1-py3-none-any.whl size=1146 sha256=714e58a7d2c2299e915e3834084f6e6c5b720f54dfa7b4cb249a5248a1e6d1ae\n",
      "  Stored in directory: C:\\Users\\HP\\AppData\\Local\\Temp\\pip-ephem-wheel-cache-mwbbq2w0\\wheels\\2f\\62\\66\\fa52a77775977868bf93d4af1e0c1bf24fae806e498a179ebe\n",
      "Successfully built smoke-classifier\n",
      "Installing collected packages: smoke-classifier\n",
      "  Attempting uninstall: smoke-classifier\n",
      "    Found existing installation: smoke-classifier 0.1\n",
      "    Uninstalling smoke-classifier-0.1:\n",
      "      Successfully uninstalled smoke-classifier-0.1\n",
      "Successfully installed smoke-classifier-0.1\n"
     ]
    }
   ],
   "source": [
    "!pip install ."
   ]
  },
  {
   "cell_type": "code",
   "execution_count": 6,
   "id": "6b79e0db-02f1-47a2-bf02-3db9aa474ec9",
   "metadata": {},
   "outputs": [
    {
     "name": "stdout",
     "output_type": "stream",
     "text": [
      "Found 1610 files belonging to 2 classes.\n",
      "Found 400 files belonging to 2 classes.\n",
      "Epoch 1/10\n",
      " 1/51 [..............................] - ETA: 0s - loss: 0.6838 - accuracy: 0.5625WARNING:tensorflow:From C:\\Users\\HP\\anaconda3\\lib\\site-packages\\tensorflow\\python\\ops\\summary_ops_v2.py:1277: stop (from tensorflow.python.eager.profiler) is deprecated and will be removed after 2020-07-01.\n",
      "Instructions for updating:\n",
      "use `tf.profiler.experimental.stop` instead.\n",
      "51/51 [==============================] - 71s 1s/step - loss: 0.7076 - accuracy: 0.6863 - val_loss: 39.1973 - val_accuracy: 0.6550\n",
      "Epoch 2/10\n",
      "51/51 [==============================] - 83s 2s/step - loss: 0.5137 - accuracy: 0.7416 - val_loss: 88.2324 - val_accuracy: 0.5900\n",
      "Epoch 3/10\n",
      "51/51 [==============================] - 56s 1s/step - loss: 0.4452 - accuracy: 0.8006 - val_loss: 133.5803 - val_accuracy: 0.5775\n",
      "Epoch 4/10\n",
      "51/51 [==============================] - 56s 1s/step - loss: 0.3467 - accuracy: 0.8590 - val_loss: 194.9090 - val_accuracy: 0.5750\n",
      "Epoch 5/10\n",
      "51/51 [==============================] - 55s 1s/step - loss: 0.2736 - accuracy: 0.8857 - val_loss: 82.9602 - val_accuracy: 0.6125\n",
      "Epoch 6/10\n",
      "51/51 [==============================] - 58s 1s/step - loss: 0.3520 - accuracy: 0.8528 - val_loss: 83.6230 - val_accuracy: 0.6550\n",
      "Epoch 7/10\n",
      "51/51 [==============================] - 61s 1s/step - loss: 0.3297 - accuracy: 0.8714 - val_loss: 156.3472 - val_accuracy: 0.6275\n",
      "Epoch 8/10\n",
      "51/51 [==============================] - 58s 1s/step - loss: 0.1267 - accuracy: 0.9584 - val_loss: 303.0678 - val_accuracy: 0.6450\n",
      "Epoch 9/10\n",
      "51/51 [==============================] - 59s 1s/step - loss: 0.0524 - accuracy: 0.9820 - val_loss: 323.5316 - val_accuracy: 0.6425\n",
      "Epoch 10/10\n",
      "51/51 [==============================] - 59s 1s/step - loss: 0.0129 - accuracy: 0.9981 - val_loss: 507.0671 - val_accuracy: 0.6525\n"
     ]
    }
   ],
   "source": [
    "import smoker_classifier.trainer as trainer\n",
    "%load_ext tensorboard\n",
    "\n",
    "trainer.main()"
   ]
  },
  {
   "cell_type": "code",
   "execution_count": null,
   "id": "d6632c11-ca70-444e-bd93-5a4aab8828e8",
   "metadata": {},
   "outputs": [],
   "source": []
  },
  {
   "cell_type": "code",
   "execution_count": null,
   "id": "10d08a3c-bf85-4d15-899b-321042cefc26",
   "metadata": {},
   "outputs": [],
   "source": []
  },
  {
   "cell_type": "code",
   "execution_count": null,
   "id": "b8322e15-07f4-4380-bd8e-4f305864ac19",
   "metadata": {},
   "outputs": [],
   "source": []
  },
  {
   "cell_type": "code",
   "execution_count": null,
   "id": "d18a3dbb-87ac-4d9e-bbb8-505c33aca4fb",
   "metadata": {},
   "outputs": [],
   "source": []
  }
 ],
 "metadata": {
  "kernelspec": {
   "display_name": "Python 3",
   "language": "python",
   "name": "python3"
  },
  "language_info": {
   "codemirror_mode": {
    "name": "ipython",
    "version": 3
   },
   "file_extension": ".py",
   "mimetype": "text/x-python",
   "name": "python",
   "nbconvert_exporter": "python",
   "pygments_lexer": "ipython3",
   "version": "3.8.8"
  }
 },
 "nbformat": 4,
 "nbformat_minor": 5
}
